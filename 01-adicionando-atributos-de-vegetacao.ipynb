{
 "cells": [
  {
   "cell_type": "code",
   "execution_count": null,
   "metadata": {},
   "outputs": [
    {
     "ename": "",
     "evalue": "",
     "output_type": "error",
     "traceback": [
      "\u001b[1;31mRunning cells with 'Python 3.10.4 64-bit' requires ipykernel package.\n",
      "\u001b[1;31mRun the following command to install 'ipykernel' into the Python environment. \n",
      "\u001b[1;31mCommand: '/bin/python3 -m pip install ipykernel -U --user --force-reinstall'"
     ]
    }
   ],
   "source": [
    "import rasterio\n",
    "import geopandas as gpd\n",
    "import pandas as pd\n",
    "import glob\n",
    "import os\n",
    "from xrspatial import zonal_stats\n",
    "# from rasterstats import raster_stats\n",
    "from geocube.api.core import make_geocube\n",
    "import rioxarray\n",
    "from shapely.geometry import box\n",
    "import numpy as np"
   ]
  },
  {
   "cell_type": "code",
   "execution_count": 2,
   "metadata": {},
   "outputs": [],
   "source": [
    "vhm = rioxarray.open_rasterio('dados/0-VHM-sao-paulo-city-1m-8bits.tif')\n",
    "vhm_100 = rioxarray.open_rasterio('dados/0-VHM-sao-paulo-city-1m-8bits-raio-100m.tif')\n",
    "vhm_1000 = rioxarray.open_rasterio('dados/0-VHM-sao-paulo-city-1m-8bits-raio-1000m.tif')"
   ]
  },
  {
   "cell_type": "code",
   "execution_count": 3,
   "metadata": {},
   "outputs": [
    {
     "name": "stdout",
     "output_type": "stream",
     "text": [
      "SIRGAS_SHP_LOTES_84_VILA_CURUCA\n",
      "SIRGAS_SHP_LOTES_15_CAMPO_BELO\n",
      "SIRGAS_SHP_LOTES_66_REPUBLICA\n",
      "SIRGAS_SHP_LOTES_53_MOOCA\n",
      "SIRGAS_SHP_LOTES_26_CONSOLACAO\n",
      "SIRGAS_SHP_LOTES_55_PARELHEIROS\n",
      "SIRGAS_SHP_LOTES_20_CARRAO\n",
      "SIRGAS_SHP_LOTES_01_AGUA_RASA\n",
      "SIRGAS_SHP_LOTES_49_LIBERDADE\n",
      "SIRGAS_SHP_LOTES_75_SAO_RAFAEL\n",
      "SIRGAS_SHP_LOTES_78_SE\n",
      "SIRGAS_SHP_LOTES_23_CIDADE_DUTRA\n",
      "SIRGAS_SHP_LOTES_81_TREMEMBE\n",
      "SIRGAS_SHP_LOTES_40_JAGUARA\n",
      "SIRGAS_SHP_LOTES_27_CURSINO\n",
      "SIRGAS_SHP_LOTES_59_PENHA\n",
      "SIRGAS_SHP_LOTES_96_LAJEADO\n",
      "SIRGAS_SHP_LOTES_10_BRAS\n",
      "SIRGAS_SHP_LOTES_21_CASA_VERDE\n",
      "SIRGAS_SHP_LOTES_80_TATUAPE\n",
      "SIRGAS_SHP_LOTES_33_IGUATEMI\n",
      "SIRGAS_SHP_LOTES_31_GUAIANASES\n",
      "SIRGAS_SHP_LOTES_30_GRAJAU\n",
      "SIRGAS_SHP_LOTES_22_CIDADE_ADEMAR\n",
      "SIRGAS_SHP_LOTES_16_CAMPO_GRANDE\n",
      "SIRGAS_SHP_LOTES_57_PARQUE_DO_CARMO\n",
      "SIRGAS_SHP_LOTES_38_JABAQUARA\n",
      "SIRGAS_SHP_LOTES_47_JOSE_BONIFACIO\n",
      "SIRGAS_SHP_LOTES_43_JARDIM_ANGELA\n",
      "SIRGAS_SHP_LOTES_63_PIRITUBA\n",
      "SIRGAS_SHP_LOTES_69_SANTA_CECILIA\n",
      "SIRGAS_SHP_LOTES_51_MANDAQUI\n",
      "SIRGAS_SHP_LOTES_77_SAUDE\n",
      "SIRGAS_SHP_LOTES_68_SACOMA\n",
      "SIRGAS_SHP_LOTES_09_BOM_RETIRO\n",
      "SIRGAS_SHP_LOTES_76_SAPOPEMBA\n",
      "SIRGAS_SHP_LOTES_74_SAO_MIGUEL\n",
      "SIRGAS_SHP_LOTES_48_LAPA\n",
      "SIRGAS_SHP_LOTES_08_BELEM\n",
      "SIRGAS_SHP_LOTES_62_PINHEIROS\n",
      "SIRGAS_SHP_LOTES_52_MARSILAC\n",
      "SIRGAS_SHP_LOTES_61_PERUS\n",
      "SIRGAS_SHP_LOTES_65_RAPOSO_TAVARES\n",
      "SIRGAS_SHP_LOTES_35_ITAIM_BIBI\n",
      "SIRGAS_SHP_LOTES_86_VILA_GUILHERME\n",
      "SIRGAS_SHP_LOTES_07_BELA_VISTA\n",
      "SIRGAS_SHP_LOTES_58_PEDREIRA\n",
      "SIRGAS_SHP_LOTES_87_VILA_JACUI\n",
      "SIRGAS_SHP_LOTES_04_ARICANDUVA\n",
      "SIRGAS_SHP_LOTES_41_JAGUARE\n",
      "SIRGAS_SHP_LOTES_83_VILA_ANDRADE\n",
      "SIRGAS_SHP_LOTES_36_ITAIM_PAULISTA\n",
      "SIRGAS_SHP_LOTES_72_SAO_LUCAS\n",
      "SIRGAS_SHP_LOTES_67_RIO_PEQUENO\n",
      "SIRGAS_SHP_LOTES_14_CAMBUCI\n",
      "SIRGAS_SHP_LOTES_46_JARDIM_SAO_LUIS\n",
      "SIRGAS_SHP_LOTES_93_VILA_PRUDENTE\n",
      "SIRGAS_SHP_LOTES_25_CIDADE_TIRADENTES\n",
      "SIRGAS_SHP_LOTES_37_ITAQUERA\n",
      "SIRGAS_SHP_LOTES_11_BRASILANDIA\n",
      "SIRGAS_SHP_LOTES_90_VILA_MARIANA\n",
      "SIRGAS_SHP_LOTES_34_IPIRANGA\n",
      "SIRGAS_SHP_LOTES_73_SAO_MATEUS\n",
      "SIRGAS_SHP_LOTES_17_CAMPO_LIMPO\n",
      "SIRGAS_SHP_LOTES_88_VILA_LEOPOLDINA\n",
      "SIRGAS_SHP_LOTES_39_JACANA\n",
      "SIRGAS_SHP_LOTES_50_LIMAO\n",
      "SIRGAS_SHP_LOTES_12_BUTANTA\n",
      "SIRGAS_SHP_LOTES_24_CIDADE_LIDER\n",
      "SIRGAS_SHP_LOTES_79_SOCORRO\n",
      "SIRGAS_SHP_LOTES_94_VILA_SONIA\n",
      "SIRGAS_SHP_LOTES_44_JARDIM_HELENA\n",
      "SIRGAS_SHP_LOTES_92_VILA_MEDEIROS\n",
      "SIRGAS_SHP_LOTES_18_CANGAIBA\n",
      "SIRGAS_SHP_LOTES_03_ANHANGUERA\n",
      "SIRGAS_SHP_LOTES_28_ERMELINO_MATARAZZO\n",
      "SIRGAS_SHP_LOTES_13_CACHOEIRINHA\n",
      "SIRGAS_SHP_LOTES_32_MOEMA\n",
      "SIRGAS_SHP_LOTES_70_SANTANA\n",
      "SIRGAS_SHP_LOTES_06_BARRA_FUNDA\n",
      "SIRGAS_SHP_LOTES_71_SANTO_AMARO\n",
      "SIRGAS_SHP_LOTES_05_ARTUR_ALVIM\n",
      "SIRGAS_SHP_LOTES_45_JARDIM_PAULISTA\n",
      "SIRGAS_SHP_LOTES_64_PONTE_RASA\n",
      "SIRGAS_SHP_LOTES_95_SAO_DOMINGOS\n",
      "SIRGAS_SHP_LOTES_85_VILA_FORMOSA\n",
      "SIRGAS_SHP_LOTES_19_CAPAO_REDONDO\n",
      "SIRGAS_SHP_LOTES_56_PARI\n",
      "SIRGAS_SHP_LOTES_91_VILA_MATILDE\n",
      "SIRGAS_SHP_LOTES_29_FREGUESIA_DO_O\n",
      "SIRGAS_SHP_LOTES_89_VILA_MARIA\n",
      "SIRGAS_SHP_LOTES_54_MORUMBI\n",
      "SIRGAS_SHP_LOTES_82_TUCURUVI\n",
      "SIRGAS_SHP_LOTES_02_ALTO_DE_PINHEIROS\n",
      "SIRGAS_SHP_LOTES_42_JARAGUA\n",
      "SIRGAS_SHP_LOTES_60_PERDIZES\n"
     ]
    }
   ],
   "source": [
    "results = []\n",
    "\n",
    "for l in glob.glob('dados/lotes/*.zip'):\n",
    "\n",
    "    print(os.path.splitext(os.path.basename(l))[0])\n",
    "    gdf_lote = gpd.read_file(f'{l}!{os.path.splitext(os.path.basename(l))[0]}')\n",
    "    gdf_lote[\"sqlc\"] = gdf_lote.lo_setor + gdf_lote.lo_quadra + gdf_lote.lo_lote + gdf_lote.lo_condomi\n",
    "    gdf_lote = gdf_lote.loc[gdf_lote.lo_tp_lote == 'F', [\"sqlc\", \"geometry\"]]\n",
    "    gdf_lote = gdf_lote.reset_index().rename(columns = {'index':'indice'})\n",
    "    # gdf_lote.indice = gdf_lote.indice + 1\n",
    "\n",
    "    gdf_lote_bb = gpd.GeoDataFrame(\n",
    "        geometry=[box(*list(gdf_lote.geometry.total_bounds))],\n",
    "        crs='EPSG:31983'\n",
    "    )\n",
    "\n",
    "    clipped_vhm = vhm.rio.clip(gdf_lote_bb.geometry, from_disk=True).sel(band=1).drop(\"band\")\n",
    "    clipped_vhm_100 = vhm_100.rio.clip(gdf_lote_bb.geometry, from_disk=True).sel(band=1).drop(\"band\")\n",
    "    clipped_vhm_1000 = vhm_1000.rio.clip(gdf_lote_bb.geometry, from_disk=True).sel(band=1).drop(\"band\")\n",
    "\n",
    "    # minx, miny, maxx, maxy = list(gdf_lote.geometry.total_bounds)\n",
    "    # clipped_vhm = vhm.rio.clip_box(minx, miny, maxx, maxy, auto_expand=True).sel(band=1).drop(\"band\")\n",
    "    # clipped_vhm_100 = vhm_100.rio.clip_box(minx, miny, maxx, maxy, auto_expand=True).sel(band=1).drop(\"band\")\n",
    "    # clipped_vhm_1000 = vhm_1000.rio.clip_box(minx, miny, maxx, maxy, auto_expand=True).sel(band=1).drop(\"band\")\n",
    "\n",
    "    # rasterizar cada lote com o SQL\n",
    "    out_grid = make_geocube(\n",
    "        vector_data=gdf_lote,\n",
    "        measurements=[\"indice\"],\n",
    "        # like=clipped_vhm,\n",
    "        resolution=(1.0, -1.0), \n",
    "        fill=999999.\n",
    "    )\n",
    "    \n",
    "    out_grid[\"indice\"] = out_grid.indice.astype(int)\n",
    "\n",
    "    min_dim_sizes = np.min(np.stack([np.array(out_grid.indice.shape), np.array(clipped_vhm.shape)]), axis=0)\n",
    "\n",
    "    zonas = zonal_stats(\n",
    "        zones=out_grid.indice[:min_dim_sizes[0], :min_dim_sizes[1]],\n",
    "        values=clipped_vhm[:min_dim_sizes[0], :min_dim_sizes[1]],\n",
    "        # nodata_values=0,\n",
    "        # affine=vhm_src.transform,\n",
    "        stats_funcs=['mean']\n",
    "    ).drop(columns=['zone']).rename(\n",
    "        columns={'mean':'media_veg_lote'}\n",
    "    )\n",
    "    \n",
    "    zonas_100 = zonal_stats(\n",
    "        zones=out_grid.indice[:min_dim_sizes[0], :min_dim_sizes[1]],\n",
    "        values=clipped_vhm_100[:min_dim_sizes[0], :min_dim_sizes[1]],\n",
    "        # nodata_values=0,\n",
    "        # affine=vhm_src.transform,\n",
    "        stats_funcs=['mean']\n",
    "    ).drop(columns=['zone']).rename(\n",
    "        columns={'mean':'media_veg_100m'}\n",
    "    )\n",
    "\n",
    "    zonas_1000 = zonal_stats(\n",
    "        zones=out_grid.indice[:min_dim_sizes[0], :min_dim_sizes[1]],\n",
    "        values=clipped_vhm_1000[:min_dim_sizes[0], :min_dim_sizes[1]],\n",
    "        # nodata_values=0,\n",
    "        # affine=vhm_src.transform,\n",
    "        stats_funcs=['mean']\n",
    "    ).drop(columns=['zone']).rename(\n",
    "        columns={'mean':'media_veg_1000m'}\n",
    "    )\n",
    "\n",
    "    result = pd.concat([gdf_lote, zonas, zonas_100, zonas_1000], axis=1)\n",
    "    results.append(result.drop(['indice', 'geometry'], axis=1))\n",
    "    # print(os.path.splitext(os.path.basename(l))[0])\n",
    "    # break"
   ]
  },
  {
   "cell_type": "code",
   "execution_count": 4,
   "metadata": {},
   "outputs": [],
   "source": [
    "pd.concat(results).reset_index().to_feather('resultados/dimensoes_vegetacao.feather')"
   ]
  },
  {
   "cell_type": "code",
   "execution_count": 20,
   "metadata": {},
   "outputs": [],
   "source": [
    "out_grid[\"index\"].rio.to_raster(\"tmp/my_rasterized_column.tif\")"
   ]
  },
  {
   "cell_type": "code",
   "execution_count": 5,
   "metadata": {},
   "outputs": [
    {
     "data": {
      "text/plain": [
       "<matplotlib.image.AxesImage at 0x7f5418d8f160>"
      ]
     },
     "execution_count": 5,
     "metadata": {},
     "output_type": "execute_result"
    },
    {
     "data": {
      "image/png": "[encoded data removed]",
      "text/plain": [
       "<Figure size 432x288 with 2 Axes>"
      ]
     },
     "metadata": {
      "needs_background": "light"
     },
     "output_type": "display_data"
    }
   ],
   "source": [
    "out_grid.indice.plot.imshow()"
   ]
  },
  {
   "cell_type": "code",
   "execution_count": null,
   "metadata": {},
   "outputs": [],
   "source": []
  }
 ],
 "metadata": {
  "kernelspec": {
   "display_name": "Python 3.10.4 64-bit",
   "language": "python",
   "name": "python3"
  },
  "language_info": {
   "codemirror_mode": {
    "name": "ipython",
    "version": 3
   },
   "file_extension": ".py",
   "mimetype": "text/x-python",
   "name": "python",
   "nbconvert_exporter": "python",
   "pygments_lexer": "ipython3",
   "version": "3.10.4"
  },
  "orig_nbformat": 4,
  "vscode": {
   "interpreter": {
    "hash": "916dbcbb3f70747c44a77c7bcd40155683ae19c65e1c03b4aa3499c5328201f1"
   }
  }
 },
 "nbformat": 4,
 "nbformat_minor": 2
}
