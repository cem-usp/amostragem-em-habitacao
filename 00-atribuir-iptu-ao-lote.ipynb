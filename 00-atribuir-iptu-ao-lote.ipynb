{
 "cells": [
  {
   "cell_type": "code",
   "execution_count": 13,
   "metadata": {},
   "outputs": [],
   "source": [
    "import geopandas as gpd\n",
    "import vaex\n",
    "import glob\n",
    "import os"
   ]
  },
  {
   "cell_type": "code",
   "execution_count": 23,
   "metadata": {},
   "outputs": [],
   "source": [
    "df_iptu = vaex.open('dados/IPTU_2022.hdf5')"
   ]
  },
  {
   "cell_type": "code",
   "execution_count": 30,
   "metadata": {},
   "outputs": [],
   "source": [
    "# df_iptu['TIPO DE USO DO IMOVEL'].value_counts()\n",
    "\n",
    "## SELECIONAR SEGUNDO OS CRITERIOS\n",
    "# 'Residência' ou 'Residência coletiva, exclusive cortiço (mais de uma residência no lote)' ou 'Residência e outro uso (predominância residencial)'\n",
    "\n",
    "## Existem alguns parametros interessantes para qualificá-las\n",
    "# 'AREA DO TERRENO',\n",
    "#  'AREA CONSTRUIDA',\n",
    "#  'AREA OCUPADA',\n",
    "#  'VALOR DO M2 DO TERRENO',\n",
    "#  'VALOR DO M2 DE CONSTRUCAO',\n",
    "#  'ANO DA CONSTRUCAO CORRIGIDO',\n",
    "#  'QUANTIDADE DE PAVIMENTOS',\n",
    "#  'TESTADA PARA CALCULO',\n",
    "#  'TIPO DE PADRAO DA CONSTRUCAO',\n",
    "# 'QUANTIDADE DE ESQUINAS FRENTES',\n",
    "\n",
    "# Além dos dados LiDAR de Vegetação e Morfologia\n",
    "\n",
    "## Que tal"
   ]
  },
  {
   "cell_type": "code",
   "execution_count": 32,
   "metadata": {},
   "outputs": [],
   "source": [
    "# df_iptu.column_names"
   ]
  },
  {
   "cell_type": "code",
   "execution_count": 22,
   "metadata": {},
   "outputs": [],
   "source": [
    "for f in glob.glob('dados/lotes/*'):\n",
    "    file = f'zip://{f}!{os.path.split(os.path.splitext(f)[0])[-1]}'\n",
    "    gdf_lotes = gpd.read_file(file)\n",
    "    break"
   ]
  },
  {
   "cell_type": "code",
   "execution_count": 6,
   "metadata": {},
   "outputs": [],
   "source": []
  },
  {
   "cell_type": "code",
   "execution_count": 8,
   "metadata": {},
   "outputs": [
    {
     "data": {
      "text/html": [
       "<table>\n",
       "<thead>\n",
       "<tr><th>#                                    </th><th>NUMERO DO CONTRIBUINTE  </th><th>ANO DO EXERCICIO  </th><th>NUMERO DA NL  </th><th>DATA DO CADASTRAMENTO        </th><th>NUMERO DO CONDOMINIO  </th><th>CODLOG DO IMOVEL  </th><th>NOME DE LOGRADOURO DO IMOVEL    </th><th>NUMERO DO IMOVEL  </th><th>COMPLEMENTO DO IMOVEL  </th><th>BAIRRO DO IMOVEL  </th><th>REFERENCIA DO IMOVEL  </th><th>CEP DO IMOVEL  </th><th>QUANTIDADE DE ESQUINAS FRENTES  </th><th>FRACAO IDEAL  </th><th>AREA DO TERRENO  </th><th>AREA CONSTRUIDA  </th><th>AREA OCUPADA  </th><th>VALOR DO M2 DO TERRENO  </th><th>VALOR DO M2 DE CONSTRUCAO  </th><th>ANO DA CONSTRUCAO CORRIGIDO  </th><th>QUANTIDADE DE PAVIMENTOS  </th><th>TESTADA PARA CALCULO  </th><th>TIPO DE USO DO IMOVEL    </th><th>TIPO DE PADRAO DA CONSTRUCAO   </th><th>TIPO DE TERRENO  </th><th>FATOR DE OBSOLESCENCIA  </th><th>ANO DE INICIO DA VIDA DO CONTRIBUINTE  </th><th>MES DE INICIO DA VIDA DO CONTRIBUINTE  </th><th>FASE DO CONTRIBUINTE  </th></tr>\n",
       "</thead>\n",
       "<tbody>\n",
       "<tr><td><i style='opacity: 0.6'>0</i>        </td><td>0010030001-4            </td><td>2022              </td><td>1             </td><td>2022-01-01 00:00:00.000000000</td><td>00-0                  </td><td>03812-1           </td><td>R S CAETANO                     </td><td>13.0              </td><td>--                     </td><td>SANTA EFIGENIA    </td><td>--                    </td><td>01104-001      </td><td>1                               </td><td>1.0           </td><td>136              </td><td>135              </td><td>108           </td><td>3340.0                  </td><td>2465.0                     </td><td>1924                         </td><td>1                         </td><td>13.0                  </td><td>Loja                     </td><td>Comercial horizontal - padrão B</td><td>De esquina       </td><td>0.2                     </td><td>1963                                   </td><td>1                                      </td><td>0                     </td></tr>\n",
       "<tr><td><i style='opacity: 0.6'>1</i>        </td><td>0010030002-2            </td><td>2022              </td><td>1             </td><td>2022-01-01 00:00:00.000000000</td><td>00-0                  </td><td>03812-1           </td><td>R S CAETANO                     </td><td>19.0              </td><td>--                     </td><td>SANTA EFIGENIA    </td><td>--                    </td><td>01104-001      </td><td>0                               </td><td>1.0           </td><td>90               </td><td>67               </td><td>67            </td><td>3340.0                  </td><td>2465.0                     </td><td>1944                         </td><td>1                         </td><td>6.0                   </td><td>Loja                     </td><td>Comercial horizontal - padrão B</td><td>Normal           </td><td>0.2                     </td><td>1963                                   </td><td>1                                      </td><td>0                     </td></tr>\n",
       "<tr><td><i style='opacity: 0.6'>2</i>        </td><td>0010030003-0            </td><td>2022              </td><td>1             </td><td>2022-01-01 00:00:00.000000000</td><td>00-0                  </td><td>03812-1           </td><td>R S CAETANO                     </td><td>27.0              </td><td>--                     </td><td>SANTA EFIGENIA    </td><td>--                    </td><td>01104-001      </td><td>0                               </td><td>1.0           </td><td>105              </td><td>140              </td><td>84            </td><td>3340.0                  </td><td>2465.0                     </td><td>1965                         </td><td>2                         </td><td>7.85                  </td><td>Loja                     </td><td>Comercial horizontal - padrão B</td><td>Normal           </td><td>0.26                    </td><td>1963                                   </td><td>1                                      </td><td>0                     </td></tr>\n",
       "<tr><td><i style='opacity: 0.6'>3</i>        </td><td>0010030004-9            </td><td>2022              </td><td>1             </td><td>2022-01-01 00:00:00.000000000</td><td>00-0                  </td><td>03812-1           </td><td>R S CAETANO                     </td><td>33.0              </td><td>--                     </td><td>--                </td><td>--                    </td><td>01104-001      </td><td>0                               </td><td>1.0           </td><td>108              </td><td>103              </td><td>86            </td><td>3340.0                  </td><td>2465.0                     </td><td>1944                         </td><td>1                         </td><td>6.05                  </td><td>Loja                     </td><td>Comercial horizontal - padrão B</td><td>Normal           </td><td>0.2                     </td><td>1963                                   </td><td>1                                      </td><td>0                     </td></tr>\n",
       "<tr><td><i style='opacity: 0.6'>4</i>        </td><td>0010030005-7            </td><td>2022              </td><td>1             </td><td>2022-01-01 00:00:00.000000000</td><td>00-0                  </td><td>03812-1           </td><td>R S CAETANO                     </td><td>39.0              </td><td>--                     </td><td>--                </td><td>--                    </td><td>01104-001      </td><td>0                               </td><td>1.0           </td><td>120              </td><td>170              </td><td>110           </td><td>3340.0                  </td><td>2465.0                     </td><td>2004                         </td><td>2                         </td><td>6.7                   </td><td>Loja                     </td><td>Comercial horizontal - padrão B</td><td>Normal           </td><td>0.84                    </td><td>1963                                   </td><td>1                                      </td><td>0                     </td></tr>\n",
       "<tr><td>...                                  </td><td>...                     </td><td>...               </td><td>...           </td><td>...                          </td><td>...                   </td><td>...               </td><td>...                             </td><td>...               </td><td>...                    </td><td>...               </td><td>...                   </td><td>...            </td><td>...                             </td><td>...           </td><td>...              </td><td>...              </td><td>...           </td><td>...                     </td><td>...                        </td><td>...                          </td><td>...                       </td><td>...                   </td><td>...                      </td><td>...                            </td><td>...              </td><td>...                     </td><td>...                                    </td><td>...                                    </td><td>...                   </td></tr>\n",
       "<tr><td><i style='opacity: 0.6'>3,580,056</i></td><td>3101180238-1            </td><td>2022              </td><td>1             </td><td>2022-01-01 00:00:00.000000000</td><td>01-9                  </td><td>02235-7           </td><td>AV ENG ARMANDO DE ARRUDA PEREIRA</td><td>1827.0            </td><td>AP 42                  </td><td>JABAQUARA         </td><td>BL 15 QD II           </td><td>04309-011      </td><td>5                               </td><td>0.0033        </td><td>18041            </td><td>84               </td><td>5312          </td><td>2301.0                  </td><td>2005.0                     </td><td>1978                         </td><td>5                         </td><td>0.0                   </td><td>Apartamento em condomínio</td><td>Residencial vertical - padrão B</td><td>De esquina       </td><td>0.2                     </td><td>1985                                   </td><td>1                                      </td><td>0                     </td></tr>\n",
       "<tr><td><i style='opacity: 0.6'>3,580,057</i></td><td>3101180239-1            </td><td>2022              </td><td>1             </td><td>2022-01-01 00:00:00.000000000</td><td>01-9                  </td><td>02235-7           </td><td>AV ENG ARMANDO DE ARRUDA PEREIRA</td><td>1827.0            </td><td>AP 43                  </td><td>JABAQUARA         </td><td>BL 15 QD II           </td><td>04309-011      </td><td>5                               </td><td>0.0033        </td><td>18041            </td><td>84               </td><td>5312          </td><td>2301.0                  </td><td>2005.0                     </td><td>1978                         </td><td>5                         </td><td>0.0                   </td><td>Apartamento em condomínio</td><td>Residencial vertical - padrão B</td><td>De esquina       </td><td>0.2                     </td><td>1985                                   </td><td>1                                      </td><td>0                     </td></tr>\n",
       "<tr><td><i style='opacity: 0.6'>3,580,058</i></td><td>3101180240-3            </td><td>2022              </td><td>1             </td><td>2022-01-01 00:00:00.000000000</td><td>01-9                  </td><td>02235-7           </td><td>AV ENG ARMANDO DE ARRUDA PEREIRA</td><td>1827.0            </td><td>AP 44                  </td><td>JABAQUARA         </td><td>BL 15 QD II           </td><td>04309-011      </td><td>5                               </td><td>0.0033        </td><td>18041            </td><td>84               </td><td>5312          </td><td>2301.0                  </td><td>2005.0                     </td><td>1978                         </td><td>5                         </td><td>0.0                   </td><td>Apartamento em condomínio</td><td>Residencial vertical - padrão B</td><td>De esquina       </td><td>0.2                     </td><td>1985                                   </td><td>1                                      </td><td>0                     </td></tr>\n",
       "<tr><td><i style='opacity: 0.6'>3,580,059</i></td><td>3101190001-4            </td><td>2022              </td><td>1             </td><td>2022-01-01 00:00:00.000000000</td><td>00-0                  </td><td>19137-0           </td><td>R  COTIPORA                     </td><td>nan               </td><td>--                     </td><td>CIDADE VARGAS     </td><td>--                    </td><td>04317-060      </td><td>2                               </td><td>1.0           </td><td>18500            </td><td>0                </td><td>0             </td><td>2149.0                  </td><td>0.0                        </td><td>0                            </td><td>0                         </td><td>0.0                   </td><td>Terreno                  </td><td>TERRENO                        </td><td>De esquina       </td><td>0.0                     </td><td>1988                                   </td><td>1                                      </td><td>0                     </td></tr>\n",
       "<tr><td><i style='opacity: 0.6'>3,580,060</i></td><td>3101200001-7            </td><td>2022              </td><td>1             </td><td>2022-01-01 00:00:00.000000000</td><td>00-0                  </td><td>01041-3           </td><td>R  AMBORES                      </td><td>nan               </td><td>--                     </td><td>CIDADE VARGAS     </td><td>--                    </td><td>04319-110      </td><td>0                               </td><td>1.0           </td><td>18926            </td><td>0                </td><td>0             </td><td>591.0                   </td><td>0.0                        </td><td>0                            </td><td>0                         </td><td>500.0                 </td><td>Terreno                  </td><td>TERRENO                        </td><td>Normal           </td><td>0.0                     </td><td>1988                                   </td><td>1                                      </td><td>0                     </td></tr>\n",
       "</tbody>\n",
       "</table>"
      ],
      "text/plain": [
       "#          NUMERO DO CONTRIBUINTE    ANO DO EXERCICIO    NUMERO DA NL    DATA DO CADASTRAMENTO          NUMERO DO CONDOMINIO    CODLOG DO IMOVEL    NOME DE LOGRADOURO DO IMOVEL      NUMERO DO IMOVEL    COMPLEMENTO DO IMOVEL    BAIRRO DO IMOVEL    REFERENCIA DO IMOVEL    CEP DO IMOVEL    QUANTIDADE DE ESQUINAS FRENTES    FRACAO IDEAL    AREA DO TERRENO    AREA CONSTRUIDA    AREA OCUPADA    VALOR DO M2 DO TERRENO    VALOR DO M2 DE CONSTRUCAO    ANO DA CONSTRUCAO CORRIGIDO    QUANTIDADE DE PAVIMENTOS    TESTADA PARA CALCULO    TIPO DE USO DO IMOVEL      TIPO DE PADRAO DA CONSTRUCAO     TIPO DE TERRENO    FATOR DE OBSOLESCENCIA    ANO DE INICIO DA VIDA DO CONTRIBUINTE    MES DE INICIO DA VIDA DO CONTRIBUINTE    FASE DO CONTRIBUINTE\n",
       "0          0010030001-4              2022                1               2022-01-01 00:00:00.000000000  00-0                    03812-1             R S CAETANO                       13.0                --                       SANTA EFIGENIA      --                      01104-001        1                                 1.0             136                135                108             3340.0                    2465.0                       1924                           1                           13.0                    Loja                       Comercial horizontal - padrão B  De esquina         0.2                       1963                                     1                                        0\n",
       "1          0010030002-2              2022                1               2022-01-01 00:00:00.000000000  00-0                    03812-1             R S CAETANO                       19.0                --                       SANTA EFIGENIA      --                      01104-001        0                                 1.0             90                 67                 67              3340.0                    2465.0                       1944                           1                           6.0                     Loja                       Comercial horizontal - padrão B  Normal             0.2                       1963                                     1                                        0\n",
       "2          0010030003-0              2022                1               2022-01-01 00:00:00.000000000  00-0                    03812-1             R S CAETANO                       27.0                --                       SANTA EFIGENIA      --                      01104-001        0                                 1.0             105                140                84              3340.0                    2465.0                       1965                           2                           7.85                    Loja                       Comercial horizontal - padrão B  Normal             0.26                      1963                                     1                                        0\n",
       "3          0010030004-9              2022                1               2022-01-01 00:00:00.000000000  00-0                    03812-1             R S CAETANO                       33.0                --                       --                  --                      01104-001        0                                 1.0             108                103                86              3340.0                    2465.0                       1944                           1                           6.05                    Loja                       Comercial horizontal - padrão B  Normal             0.2                       1963                                     1                                        0\n",
       "4          0010030005-7              2022                1               2022-01-01 00:00:00.000000000  00-0                    03812-1             R S CAETANO                       39.0                --                       --                  --                      01104-001        0                                 1.0             120                170                110             3340.0                    2465.0                       2004                           2                           6.7                     Loja                       Comercial horizontal - padrão B  Normal             0.84                      1963                                     1                                        0\n",
       "...        ...                       ...                 ...             ...                            ...                     ...                 ...                               ...                 ...                      ...                 ...                     ...              ...                               ...             ...                ...                ...             ...                       ...                          ...                            ...                         ...                     ...                        ...                              ...                ...                       ...                                      ...                                      ...\n",
       "3,580,056  3101180238-1              2022                1               2022-01-01 00:00:00.000000000  01-9                    02235-7             AV ENG ARMANDO DE ARRUDA PEREIRA  1827.0              AP 42                    JABAQUARA           BL 15 QD II             04309-011        5                                 0.0033          18041              84                 5312            2301.0                    2005.0                       1978                           5                           0.0                     Apartamento em condomínio  Residencial vertical - padrão B  De esquina         0.2                       1985                                     1                                        0\n",
       "3,580,057  3101180239-1              2022                1               2022-01-01 00:00:00.000000000  01-9                    02235-7             AV ENG ARMANDO DE ARRUDA PEREIRA  1827.0              AP 43                    JABAQUARA           BL 15 QD II             04309-011        5                                 0.0033          18041              84                 5312            2301.0                    2005.0                       1978                           5                           0.0                     Apartamento em condomínio  Residencial vertical - padrão B  De esquina         0.2                       1985                                     1                                        0\n",
       "3,580,058  3101180240-3              2022                1               2022-01-01 00:00:00.000000000  01-9                    02235-7             AV ENG ARMANDO DE ARRUDA PEREIRA  1827.0              AP 44                    JABAQUARA           BL 15 QD II             04309-011        5                                 0.0033          18041              84                 5312            2301.0                    2005.0                       1978                           5                           0.0                     Apartamento em condomínio  Residencial vertical - padrão B  De esquina         0.2                       1985                                     1                                        0\n",
       "3,580,059  3101190001-4              2022                1               2022-01-01 00:00:00.000000000  00-0                    19137-0             R  COTIPORA                       nan                 --                       CIDADE VARGAS       --                      04317-060        2                                 1.0             18500              0                  0               2149.0                    0.0                          0                              0                           0.0                     Terreno                    TERRENO                          De esquina         0.0                       1988                                     1                                        0\n",
       "3,580,060  3101200001-7              2022                1               2022-01-01 00:00:00.000000000  00-0                    01041-3             R  AMBORES                        nan                 --                       CIDADE VARGAS       --                      04319-110        0                                 1.0             18926              0                  0               591.0                     0.0                          0                              0                           500.0                   Terreno                    TERRENO                          Normal             0.0                       1988                                     1                                        0"
      ]
     },
     "execution_count": 8,
     "metadata": {},
     "output_type": "execute_result"
    }
   ],
   "source": [
    "df_iptu"
   ]
  },
  {
   "cell_type": "code",
   "execution_count": null,
   "metadata": {},
   "outputs": [],
   "source": []
  }
 ],
 "metadata": {
  "kernelspec": {
   "display_name": "Python 3.9.11 ('vaex')",
   "language": "python",
   "name": "python3"
  },
  "language_info": {
   "codemirror_mode": {
    "name": "ipython",
    "version": 3
   },
   "file_extension": ".py",
   "mimetype": "text/x-python",
   "name": "python",
   "nbconvert_exporter": "python",
   "pygments_lexer": "ipython3",
   "version": "3.9.11"
  },
  "orig_nbformat": 4,
  "vscode": {
   "interpreter": {
    "hash": "6d3d6b5354ee5ed2bcb459944448ad7c7b3d8d71afaf541592642627550d5a95"
   }
  }
 },
 "nbformat": 4,
 "nbformat_minor": 2
}
